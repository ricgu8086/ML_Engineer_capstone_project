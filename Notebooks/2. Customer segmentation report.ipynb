{
 "cells": [
  {
   "cell_type": "markdown",
   "metadata": {},
   "source": [
    "# Install dependencies"
   ]
  },
  {
   "cell_type": "code",
   "execution_count": 6,
   "metadata": {
    "scrolled": true
   },
   "outputs": [
    {
     "name": "stdout",
     "output_type": "stream",
     "text": [
      "Collecting package metadata: done\n",
      "Solving environment: done\n",
      "\n",
      "\n",
      "==> WARNING: A newer version of conda exists. <==\n",
      "  current version: 4.6.14\n",
      "  latest version: 4.8.3\n",
      "\n",
      "Please update conda by running\n",
      "\n",
      "    $ conda update -n base conda\n",
      "\n",
      "\n",
      "\n",
      "## Package Plan ##\n",
      "\n",
      "  environment location: /opt/conda\n",
      "\n",
      "  added / updated specs:\n",
      "    - xgboost\n",
      "\n",
      "\n",
      "The following packages will be downloaded:\n",
      "\n",
      "    package                    |            build\n",
      "    ---------------------------|-----------------\n",
      "    _py-xgboost-mutex-2.0      |            cpu_0           8 KB  conda-forge\n",
      "    ca-certificates-2020.6.20  |       hecda079_0         145 KB  conda-forge\n",
      "    certifi-2020.6.20          |   py36h9f0ad1d_0         151 KB  conda-forge\n",
      "    libxgboost-1.0.2           |       he1b5a44_1         2.8 MB  conda-forge\n",
      "    py-xgboost-1.0.2           |   py36h9f0ad1d_1         2.2 MB  conda-forge\n",
      "    python_abi-3.6             |          1_cp36m           4 KB  conda-forge\n",
      "    xgboost-1.0.2              |   py36h831f99a_1          11 KB  conda-forge\n",
      "    ------------------------------------------------------------\n",
      "                                           Total:         5.4 MB\n",
      "\n",
      "The following NEW packages will be INSTALLED:\n",
      "\n",
      "  _py-xgboost-mutex  conda-forge/linux-64::_py-xgboost-mutex-2.0-cpu_0\n",
      "  libxgboost         conda-forge/linux-64::libxgboost-1.0.2-he1b5a44_1\n",
      "  py-xgboost         conda-forge/linux-64::py-xgboost-1.0.2-py36h9f0ad1d_1\n",
      "  python_abi         conda-forge/linux-64::python_abi-3.6-1_cp36m\n",
      "  xgboost            conda-forge/linux-64::xgboost-1.0.2-py36h831f99a_1\n",
      "\n",
      "The following packages will be UPDATED:\n",
      "\n",
      "  ca-certificates                     2019.11.28-hecc5488_0 --> 2020.6.20-hecda079_0\n",
      "  certifi                                 2019.11.28-py36_0 --> 2020.6.20-py36h9f0ad1d_0\n",
      "\n",
      "The following packages will be DOWNGRADED:\n",
      "\n",
      "  scipy                                1.2.1-py36h09a28d5_1 --> 0.19.1-py36_blas_openblas_202\n",
      "\n",
      "\n",
      "\n",
      "Downloading and Extracting Packages\n",
      "ca-certificates-2020 | 145 KB    | ##################################### | 100% \n",
      "python_abi-3.6       | 4 KB      | ##################################### | 100% \n",
      "xgboost-1.0.2        | 11 KB     | ##################################### | 100% \n",
      "libxgboost-1.0.2     | 2.8 MB    | ##################################### | 100% \n",
      "certifi-2020.6.20    | 151 KB    | ##################################### | 100% \n",
      "py-xgboost-1.0.2     | 2.2 MB    | ##################################### | 100% \n",
      "_py-xgboost-mutex-2. | 8 KB      | ##################################### | 100% \n",
      "Preparing transaction: done\n",
      "Verifying transaction: done\n",
      "Executing transaction: done\n"
     ]
    }
   ],
   "source": [
    "! conda install -c conda-forge xgboost --yes"
   ]
  },
  {
   "cell_type": "code",
   "execution_count": 1,
   "metadata": {},
   "outputs": [],
   "source": [
    "import xgboost"
   ]
  },
  {
   "cell_type": "code",
   "execution_count": 10,
   "metadata": {
    "scrolled": true
   },
   "outputs": [
    {
     "name": "stdout",
     "output_type": "stream",
     "text": [
      "Collecting scikit-learn==0.23.1\n",
      "\u001b[?25l  Downloading https://files.pythonhosted.org/packages/d9/3a/eb8d7bbe28f4787d140bb9df685b7d5bf6115c0e2a969def4027144e98b6/scikit_learn-0.23.1-cp36-cp36m-manylinux1_x86_64.whl (6.8MB)\n",
      "\u001b[K    100% |████████████████████████████████| 6.9MB 4.7MB/s eta 0:00:01  0% |▎                               | 61kB 2.9MB/s eta 0:00:03    7% |██▍                             | 512kB 8.6MB/s eta 0:00:01    90% |█████████████████████████████   | 6.2MB 24.6MB/s eta 0:00:01\n",
      "\u001b[?25hCollecting threadpoolctl>=2.0.0 (from scikit-learn==0.23.1)\n",
      "  Downloading https://files.pythonhosted.org/packages/f7/12/ec3f2e203afa394a149911729357aa48affc59c20e2c1c8297a60f33f133/threadpoolctl-2.1.0-py3-none-any.whl\n",
      "Requirement already satisfied: joblib>=0.11 in /opt/conda/lib/python3.6/site-packages (from scikit-learn==0.23.1) (0.11)\n",
      "Requirement already satisfied: scipy>=0.19.1 in /opt/conda/lib/python3.6/site-packages (from scikit-learn==0.23.1) (0.19.1)\n",
      "Collecting numpy>=1.13.3 (from scikit-learn==0.23.1)\n",
      "\u001b[?25l  Downloading https://files.pythonhosted.org/packages/00/16/476826a84d545424084499763248abbbdc73d065168efed9aa71cdf2a7dc/numpy-1.19.0-cp36-cp36m-manylinux1_x86_64.whl (13.5MB)\n",
      "\u001b[K    100% |████████████████████████████████| 13.5MB 2.5MB/s eta 0:00:01   37% |████████████                    | 5.0MB 25.1MB/s eta 0:00:01    46% |██████████████▊                 | 6.2MB 25.2MB/s eta 0:00:01    54% |█████████████████▌              | 7.4MB 23.9MB/s eta 0:00:01    70% |██████████████████████▋         | 9.5MB 9.4MB/s eta 0:00:01\n",
      "\u001b[31mtensorflow 1.3.0 requires tensorflow-tensorboard<0.2.0,>=0.1.0, which is not installed.\u001b[0m\n",
      "\u001b[?25hInstalling collected packages: threadpoolctl, numpy, scikit-learn\n",
      "  Found existing installation: numpy 1.12.1\n",
      "    Uninstalling numpy-1.12.1:\n",
      "      Successfully uninstalled numpy-1.12.1\n",
      "  Found existing installation: scikit-learn 0.19.1\n",
      "    Uninstalling scikit-learn-0.19.1:\n",
      "      Successfully uninstalled scikit-learn-0.19.1\n",
      "Successfully installed numpy-1.19.0 scikit-learn-0.23.1 threadpoolctl-2.1.0\n"
     ]
    }
   ],
   "source": [
    "! pip install 'scikit-learn==0.23.1'"
   ]
  },
  {
   "cell_type": "code",
   "execution_count": 4,
   "metadata": {
    "scrolled": false
   },
   "outputs": [
    {
     "name": "stdout",
     "output_type": "stream",
     "text": [
      "Collecting scipy\n",
      "\u001b[?25l  Downloading https://files.pythonhosted.org/packages/ab/f9/6eeed6d5cd8dd435bbf105d10d778c2d76de1a5838fdbc315a59fb7fad64/scipy-1.5.1-cp36-cp36m-manylinux1_x86_64.whl (25.9MB)\n",
      "\u001b[K    100% |████████████████████████████████| 25.9MB 1.4MB/s ta 0:00:011 0% |▏                               | 143kB 811kB/s eta 0:00:32    1% |▍                               | 348kB 2.9MB/s eta 0:00:09    7% |██▍                             | 2.0MB 11.0MB/s eta 0:00:03    11% |███▋                            | 2.9MB 10.7MB/s eta 0:00:03    13% |████▎                           | 3.5MB 9.8MB/s eta 0:00:03    14% |████▊                           | 3.8MB 10.2MB/s eta 0:00:03    38% |████████████▏                   | 9.9MB 4.8MB/s eta 0:00:04    50% |████████████████▎               | 13.1MB 7.0MB/s eta 0:00:02    75% |████████████████████████▎       | 19.6MB 8.8MB/s eta 0:00:01    92% |█████████████████████████████▊  | 24.0MB 8.7MB/s eta 0:00:01\n",
      "\u001b[?25hRequirement already satisfied, skipping upgrade: numpy>=1.14.5 in /opt/conda/lib/python3.6/site-packages (from scipy) (1.19.0)\n",
      "Installing collected packages: scipy\n",
      "  Found existing installation: scipy 0.19.1\n",
      "    Uninstalling scipy-0.19.1:\n",
      "      Successfully uninstalled scipy-0.19.1\n",
      "Successfully installed scipy-1.5.1\n"
     ]
    }
   ],
   "source": [
    "! pip install scipy --upgrade"
   ]
  },
  {
   "cell_type": "code",
   "execution_count": 2,
   "metadata": {},
   "outputs": [],
   "source": [
    "import sklearn"
   ]
  },
  {
   "cell_type": "markdown",
   "metadata": {},
   "source": [
    "# Load artifacts and datasets"
   ]
  },
  {
   "cell_type": "code",
   "execution_count": 3,
   "metadata": {},
   "outputs": [],
   "source": [
    "import pickle\n",
    "import pandas as pd\n",
    "import numpy as np\n",
    "import pylab as plt\n",
    "\n",
    "%matplotlib inline"
   ]
  },
  {
   "cell_type": "code",
   "execution_count": 4,
   "metadata": {},
   "outputs": [],
   "source": [
    "path_artifacts = \"preproc_artifacts.pkl\"\n",
    "\n",
    "with open(path_artifacts, 'rb') as fin:\n",
    "    artifacts = pickle.load(fin)"
   ]
  },
  {
   "cell_type": "code",
   "execution_count": 6,
   "metadata": {},
   "outputs": [
    {
     "data": {
      "text/plain": [
       "dict_keys(['type_converter', 'value_checker', 'high_null_cols', 'num_imputer', 'cat_imputer', 'ord_encoder', 'low_var_cols', 'high_card_cols'])"
      ]
     },
     "execution_count": 6,
     "metadata": {},
     "output_type": "execute_result"
    }
   ],
   "source": [
    "artifacts.keys()"
   ]
  },
  {
   "cell_type": "code",
   "execution_count": 7,
   "metadata": {},
   "outputs": [
    {
     "data": {
      "text/plain": [
       "{'AGER_TYP': 'category',\n",
       " 'ALTERSKATEGORIE_GROB': 'category',\n",
       " 'ALTER_HH': 'category',\n",
       " 'ANREDE_KZ': 'category',\n",
       " 'ANZ_HAUSHALTE_AKTIV': 'float',\n",
       " 'ANZ_HH_TITEL': 'float',\n",
       " 'ANZ_PERSONEN': 'float',\n",
       " 'ANZ_TITEL': 'float',\n",
       " 'BALLRAUM': 'category',\n",
       " 'BIP_FLAG': 'category',\n",
       " 'CAMEO_DEUG_2015': 'category',\n",
       " 'CAMEO_DEU_2015': 'category',\n",
       " 'CAMEO_DEUINTL_2015': 'category',\n",
       " 'CJT_GESAMTTYP': 'category',\n",
       " 'D19_BANKEN_ANZ_12': 'category',\n",
       " 'D19_BANKEN_ANZ_24': 'category',\n",
       " 'D19_BANKEN_DATUM': 'category',\n",
       " 'D19_BANKEN_DIREKT_RZ': 'category',\n",
       " 'D19_BANKEN_GROSS_RZ': 'category',\n",
       " 'D19_BANKEN_LOKAL_RZ': 'category',\n",
       " 'D19_BANKEN_OFFLINE_DATUM': 'category',\n",
       " 'D19_BANKEN_ONLINE_DATUM': 'category',\n",
       " 'D19_BANKEN_ONLINE_QUOTE_12': 'category',\n",
       " 'D19_BANKEN_REST_RZ': 'category',\n",
       " 'D19_BEKLEIDUNG_GEH_RZ': 'category',\n",
       " 'D19_BEKLEIDUNG_REST_RZ': 'category',\n",
       " 'D19_BILDUNG_RZ': 'category',\n",
       " 'D19_BIO_OEKO_RZ': 'category',\n",
       " 'D19_BUCH_RZ': 'category',\n",
       " 'D19_DIGIT_SERV_RZ': 'category',\n",
       " 'D19_DROGERIEARTIKEL_RZ': 'category',\n",
       " 'D19_ENERGIE_RZ': 'category',\n",
       " 'D19_FREIZEIT_RZ': 'category',\n",
       " 'D19_GARTEN_RZ': 'category',\n",
       " 'D19_GESAMT_ANZ_12': 'category',\n",
       " 'D19_GESAMT_ANZ_24': 'category',\n",
       " 'D19_GESAMT_DATUM': 'category',\n",
       " 'D19_GESAMT_OFFLINE_DATUM': 'category',\n",
       " 'D19_GESAMT_ONLINE_DATUM': 'category',\n",
       " 'D19_GESAMT_ONLINE_QUOTE_12': 'category',\n",
       " 'D19_HANDWERK_RZ': 'category',\n",
       " 'D19_HAUS_DEKO_RZ': 'category',\n",
       " 'D19_KINDERARTIKEL_RZ': 'category',\n",
       " 'D19_KONSUMTYP': 'category',\n",
       " 'D19_KK_KUNDENTYP': 'category',\n",
       " 'D19_KOSMETIK_RZ': 'category',\n",
       " 'D19_LEBENSMITTEL_RZ': 'category',\n",
       " 'D19_LOTTO_RZ': 'category',\n",
       " 'D19_NAHRUNGSERGAENZUNG_RZ': 'category',\n",
       " 'D19_RATGEBER_RZ': 'category',\n",
       " 'D19_REISEN_RZ': 'category',\n",
       " 'D19_SAMMELARTIKEL_RZ': 'category',\n",
       " 'D19_SCHUHE_RZ': 'category',\n",
       " 'D19_SONSTIGE_RZ': 'category',\n",
       " 'D19_TECHNIK_RZ': 'category',\n",
       " 'D19_TELKO_ANZ_12': 'category',\n",
       " 'D19_TELKO_ANZ_24': 'category',\n",
       " 'D19_TELKO_DATUM': 'category',\n",
       " 'D19_TELKO_MOBILE_RZ': 'category',\n",
       " 'D19_TELKO_OFFLINE_DATUM': 'category',\n",
       " 'D19_TELKO_ONLINE_DATUM': 'category',\n",
       " 'D19_TELKO_REST_RZ': 'category',\n",
       " 'D19_TIERARTIKEL_RZ': 'category',\n",
       " 'D19_VERSAND_ANZ_12': 'category',\n",
       " 'D19_VERSAND_ANZ_24': 'category',\n",
       " 'D19_VERSAND_DATUM': 'category',\n",
       " 'D19_VERSAND_OFFLINE_DATUM': 'category',\n",
       " 'D19_VERSAND_ONLINE_DATUM': 'category',\n",
       " 'D19_VERSAND_ONLINE_QUOTE_12': 'category',\n",
       " 'D19_VERSAND_REST_RZ': 'category',\n",
       " 'D19_VERSICHERUNGEN_RZ': 'category',\n",
       " 'D19_VERSI_ANZ_12': 'category',\n",
       " 'D19_VERSI_ANZ_24': 'category',\n",
       " 'D19_VOLLSORTIMENT_RZ': 'category',\n",
       " 'D19_WEIN_FEINKOST_RZ': 'category',\n",
       " 'EWDICHTE': 'category',\n",
       " 'FINANZTYP': 'category',\n",
       " 'FINANZ_ANLEGER': 'category',\n",
       " 'FINANZ_HAUSBAUER': 'category',\n",
       " 'FINANZ_MINIMALIST': 'category',\n",
       " 'FINANZ_SPARER': 'category',\n",
       " 'FINANZ_UNAUFFAELLIGER': 'category',\n",
       " 'FINANZ_VORSORGER': 'category',\n",
       " 'GEBAEUDETYP': 'category',\n",
       " 'GEBAEUDETYP_RASTER': 'category',\n",
       " 'GEBURTSJAHR': 'float',\n",
       " 'GFK_URLAUBERTYP': 'category',\n",
       " 'GEOSCORE_KLS7': 'category',\n",
       " 'GREEN_AVANTGARDE': 'category',\n",
       " 'HAUSHALTSSTRUKTUR': 'category',\n",
       " 'HEALTH_TYP': 'category',\n",
       " 'HH_EINKOMMEN_SCORE': 'category',\n",
       " 'INNENSTADT': 'category',\n",
       " 'KBA05_ALTER1': 'category',\n",
       " 'KBA05_ALTER2': 'category',\n",
       " 'KBA05_ALTER3': 'category',\n",
       " 'KBA05_ALTER4': 'category',\n",
       " 'KBA05_ANHANG': 'category',\n",
       " 'KBA05_ANTG1': 'category',\n",
       " 'KBA05_ANTG2': 'category',\n",
       " 'KBA05_ANTG3': 'category',\n",
       " 'KBA05_ANTG4': 'category',\n",
       " 'KBA05_AUTOQUOT': 'category',\n",
       " 'KBA05_BAUMAX': 'category',\n",
       " 'KBA05_CCM1': 'category',\n",
       " 'KBA05_CCM2': 'category',\n",
       " 'KBA05_CCM3': 'category',\n",
       " 'KBA05_CCM4': 'category',\n",
       " 'KBA05_DIESEL': 'category',\n",
       " 'KBA05_FRAU': 'category',\n",
       " 'KBA05_GBZ': 'category',\n",
       " 'KBA05_HERST1': 'category',\n",
       " 'KBA05_HERST2': 'category',\n",
       " 'KBA05_HERST3': 'category',\n",
       " 'KBA05_HERST4': 'category',\n",
       " 'KBA05_HERST5': 'category',\n",
       " 'KBA05_HERSTTEMP': 'category',\n",
       " 'KBA05_KRSAQUOT': 'category',\n",
       " 'KBA05_KRSHERST1': 'category',\n",
       " 'KBA05_KRSHERST2': 'category',\n",
       " 'KBA05_KRSHERST3': 'category',\n",
       " 'KBA05_KRSKLEIN': 'category',\n",
       " 'KBA05_KRSOBER': 'category',\n",
       " 'KBA05_KRSVAN': 'category',\n",
       " 'KBA05_KRSZUL': 'category',\n",
       " 'KBA05_KW1': 'category',\n",
       " 'KBA05_KW2': 'category',\n",
       " 'KBA05_KW3': 'category',\n",
       " 'KBA05_MAXAH': 'category',\n",
       " 'KBA05_MAXBJ': 'category',\n",
       " 'KBA05_MAXHERST': 'category',\n",
       " 'KBA05_MAXSEG': 'category',\n",
       " 'KBA05_MAXVORB': 'category',\n",
       " 'KBA05_MOD1': 'category',\n",
       " 'KBA05_MOD2': 'category',\n",
       " 'KBA05_MOD3': 'category',\n",
       " 'KBA05_MOD4': 'category',\n",
       " 'KBA05_MOD8': 'category',\n",
       " 'KBA05_MODTEMP': 'category',\n",
       " 'KBA05_MOTOR': 'category',\n",
       " 'KBA05_MOTRAD': 'category',\n",
       " 'KBA05_SEG1': 'category',\n",
       " 'KBA05_SEG10': 'category',\n",
       " 'KBA05_SEG2': 'category',\n",
       " 'KBA05_SEG3': 'category',\n",
       " 'KBA05_SEG4': 'category',\n",
       " 'KBA05_SEG5': 'category',\n",
       " 'KBA05_SEG6': 'category',\n",
       " 'KBA05_SEG7': 'category',\n",
       " 'KBA05_SEG8': 'category',\n",
       " 'KBA05_SEG9': 'category',\n",
       " 'KBA05_VORB0': 'category',\n",
       " 'KBA05_VORB1': 'category',\n",
       " 'KBA05_VORB2': 'category',\n",
       " 'KBA05_ZUL1': 'category',\n",
       " 'KBA05_ZUL2': 'category',\n",
       " 'KBA05_ZUL3': 'category',\n",
       " 'KBA05_ZUL4': 'category',\n",
       " 'KBA13_ALTERHALTER_30': 'category',\n",
       " 'KBA13_ALTERHALTER_45': 'category',\n",
       " 'KBA13_ALTERHALTER_60': 'category',\n",
       " 'KBA13_ALTERHALTER_61': 'category',\n",
       " 'KBA13_ANZAHL_PKW': 'float',\n",
       " 'KBA13_AUDI': 'category',\n",
       " 'KBA13_AUTOQUOTE': 'category',\n",
       " 'KBA13_BJ_1999': 'category',\n",
       " 'KBA13_BJ_2000': 'category',\n",
       " 'KBA13_BJ_2004': 'category',\n",
       " 'KBA13_BJ_2006': 'category',\n",
       " 'KBA13_BJ_2008': 'category',\n",
       " 'KBA13_BJ_2009': 'category',\n",
       " 'KBA13_BMW': 'category',\n",
       " 'KBA13_CCM_1000': 'category',\n",
       " 'KBA13_CCM_1200': 'category',\n",
       " 'KBA13_CCM_1400': 'category',\n",
       " 'KBA13_CCM_0_1400': 'category',\n",
       " 'KBA13_CCM_1500': 'category',\n",
       " 'KBA13_CCM_1400_2500': 'category',\n",
       " 'KBA13_CCM_1600': 'category',\n",
       " 'KBA13_CCM_1800': 'category',\n",
       " 'KBA13_CCM_2000': 'category',\n",
       " 'KBA13_CCM_2500': 'category',\n",
       " 'KBA13_CCM_2501': 'category',\n",
       " 'KBA13_CCM_3000': 'category',\n",
       " 'KBA13_CCM_3001': 'category',\n",
       " 'KBA13_FAB_ASIEN': 'category',\n",
       " 'KBA13_FAB_SONSTIGE': 'category',\n",
       " 'KBA13_FIAT': 'category',\n",
       " 'KBA13_FORD': 'category',\n",
       " 'KBA13_HALTER_20': 'category',\n",
       " 'KBA13_HALTER_25': 'category',\n",
       " 'KBA13_HALTER_30': 'category',\n",
       " 'KBA13_HALTER_35': 'category',\n",
       " 'KBA13_HALTER_40': 'category',\n",
       " 'KBA13_HALTER_45': 'category',\n",
       " 'KBA13_HALTER_50': 'category',\n",
       " 'KBA13_HALTER_55': 'category',\n",
       " 'KBA13_HALTER_60': 'category',\n",
       " 'KBA13_HALTER_65': 'category',\n",
       " 'KBA13_HALTER_66': 'category',\n",
       " 'KBA13_HERST_ASIEN': 'category',\n",
       " 'KBA13_HERST_AUDI_VW': 'category',\n",
       " 'KBA13_HERST_BMW_BENZ': 'category',\n",
       " 'KBA13_HERST_EUROPA': 'category',\n",
       " 'KBA13_HERST_FORD_OPEL': 'category',\n",
       " 'KBA13_HERST_SONST': 'category',\n",
       " 'KBA13_KMH_110': 'category',\n",
       " 'KBA13_KMH_140': 'category',\n",
       " 'KBA13_KMH_180': 'category',\n",
       " 'KBA13_KMH_0_140': 'category',\n",
       " 'KBA13_KMH_140_210': 'category',\n",
       " 'KBA13_KMH_211': 'category',\n",
       " 'KBA13_KMH_250': 'category',\n",
       " 'KBA13_KMH_251': 'category',\n",
       " 'KBA13_KRSAQUOT': 'category',\n",
       " 'KBA13_KRSHERST_AUDI_VW': 'category',\n",
       " 'KBA13_KRSHERST_BMW_BENZ': 'category',\n",
       " 'KBA13_KRSHERST_FORD_OPEL': 'category',\n",
       " 'KBA13_KRSSEG_KLEIN': 'category',\n",
       " 'KBA13_KRSSEG_OBER': 'category',\n",
       " 'KBA13_KRSSEG_VAN': 'category',\n",
       " 'KBA13_KRSZUL_NEU': 'category',\n",
       " 'KBA13_KW_30': 'category',\n",
       " 'KBA13_KW_40': 'category',\n",
       " 'KBA13_KW_50': 'category',\n",
       " 'KBA13_KW_60': 'category',\n",
       " 'KBA13_KW_0_60': 'category',\n",
       " 'KBA13_KW_70': 'category',\n",
       " 'KBA13_KW_61_120': 'category',\n",
       " 'KBA13_KW_80': 'category',\n",
       " 'KBA13_KW_90': 'category',\n",
       " 'KBA13_KW_110': 'category',\n",
       " 'KBA13_KW_120': 'category',\n",
       " 'KBA13_KW_121': 'category',\n",
       " 'KBA13_MAZDA': 'category',\n",
       " 'KBA13_MERCEDES': 'category',\n",
       " 'KBA13_MOTOR': 'category',\n",
       " 'KBA13_NISSAN': 'category',\n",
       " 'KBA13_OPEL': 'category',\n",
       " 'KBA13_PEUGEOT': 'category',\n",
       " 'KBA13_RENAULT': 'category',\n",
       " 'KBA13_SEG_GELAENDEWAGEN': 'category',\n",
       " 'KBA13_SEG_GROSSRAUMVANS': 'category',\n",
       " 'KBA13_SEG_KLEINST': 'category',\n",
       " 'KBA13_SEG_KLEINWAGEN': 'category',\n",
       " 'KBA13_SEG_KOMPAKTKLASSE': 'category',\n",
       " 'KBA13_SEG_MINIVANS': 'category',\n",
       " 'KBA13_SEG_MINIWAGEN': 'category',\n",
       " 'KBA13_SEG_MITTELKLASSE': 'category',\n",
       " 'KBA13_SEG_OBEREMITTELKLASSE': 'category',\n",
       " 'KBA13_SEG_OBERKLASSE': 'category',\n",
       " 'KBA13_SEG_SONSTIGE': 'category',\n",
       " 'KBA13_SEG_SPORTWAGEN': 'category',\n",
       " 'KBA13_SEG_UTILITIES': 'category',\n",
       " 'KBA13_SEG_VAN': 'category',\n",
       " 'KBA13_SEG_WOHNMOBILE': 'category',\n",
       " 'KBA13_SITZE_4': 'category',\n",
       " 'KBA13_SITZE_5': 'category',\n",
       " 'KBA13_SITZE_6': 'category',\n",
       " 'KBA13_TOYOTA': 'category',\n",
       " 'KBA13_VORB_0': 'category',\n",
       " 'KBA13_VORB_1': 'category',\n",
       " 'KBA13_VORB_1_2': 'category',\n",
       " 'KBA13_VORB_2': 'category',\n",
       " 'KBA13_VORB_3': 'category',\n",
       " 'KBA13_VW': 'category',\n",
       " 'KKK': 'category',\n",
       " 'KONSUMNAEHE': 'category',\n",
       " 'LP_FAMILIE_FEIN': 'category',\n",
       " 'LP_FAMILIE_GROB': 'category',\n",
       " 'LP_LEBENSPHASE_FEIN': 'category',\n",
       " 'LP_LEBENSPHASE_GROB': 'category',\n",
       " 'LP_STATUS_FEIN': 'category',\n",
       " 'LP_STATUS_GROB': 'category',\n",
       " 'MIN_GEBAEUDEJAHR': 'float',\n",
       " 'MOBI_REGIO': 'category',\n",
       " 'NATIONALITAET_KZ': 'category',\n",
       " 'ONLINE_AFFINITAET': 'category',\n",
       " 'ORTSGR_KLS9': 'category',\n",
       " 'OST_WEST_KZ': 'category',\n",
       " 'PLZ8_ANTG1': 'category',\n",
       " 'PLZ8_ANTG2': 'category',\n",
       " 'PLZ8_ANTG3': 'category',\n",
       " 'PLZ8_ANTG4': 'category',\n",
       " 'PLZ8_BAUMAX': 'category',\n",
       " 'PLZ8_GBZ': 'category',\n",
       " 'PLZ8_HHZ': 'category',\n",
       " 'PRAEGENDE_JUGENDJAHRE': 'category',\n",
       " 'REGIOTYP': 'category',\n",
       " 'RELAT_AB': 'category',\n",
       " 'RETOURTYP_BK_S': 'category',\n",
       " 'SEMIO_DOM': 'category',\n",
       " 'SEMIO_ERL': 'category',\n",
       " 'SEMIO_FAM': 'category',\n",
       " 'SEMIO_KAEM': 'category',\n",
       " 'SEMIO_KRIT': 'category',\n",
       " 'SEMIO_KULT': 'category',\n",
       " 'SEMIO_LUST': 'category',\n",
       " 'SEMIO_MAT': 'category',\n",
       " 'SEMIO_PFLICHT': 'category',\n",
       " 'SEMIO_RAT': 'category',\n",
       " 'SEMIO_REL': 'category',\n",
       " 'SEMIO_SOZ': 'category',\n",
       " 'SEMIO_TRADV': 'category',\n",
       " 'SEMIO_VERT': 'category',\n",
       " 'SHOPPER_TYP': 'category',\n",
       " 'SOHO_FLAG': 'category',\n",
       " 'TITEL_KZ': 'category',\n",
       " 'VERS_TYP': 'category',\n",
       " 'WOHNDAUER_2008': 'category',\n",
       " 'WOHNLAGE': 'category',\n",
       " 'WACHSTUMSGEBIET_NB': 'category',\n",
       " 'W_KEIT_KIND_HH': 'category'}"
      ]
     },
     "execution_count": 7,
     "metadata": {},
     "output_type": "execute_result"
    }
   ],
   "source": [
    "artifacts['type_converter']"
   ]
  },
  {
   "cell_type": "code",
   "execution_count": 10,
   "metadata": {},
   "outputs": [],
   "source": [
    "path_population = \"Udacity_AZDIAS_052018_preproc.csv\"\n",
    "path_customers = \"Udacity_CUSTOMERS_052018_preproc.csv\""
   ]
  },
  {
   "cell_type": "code",
   "execution_count": 36,
   "metadata": {},
   "outputs": [],
   "source": [
    "population_df = pd.read_csv(path_population, dtype=artifacts['type_converter'])\n",
    "customers_df = pd.read_csv(path_customers, dtype=artifacts['type_converter'])"
   ]
  },
  {
   "cell_type": "markdown",
   "metadata": {},
   "source": [
    "**To create the customer segmentation report, clustering was suggested, however, it's not a good idea, at least for this dataset. Let's see why:**"
   ]
  },
  {
   "cell_type": "code",
   "execution_count": 37,
   "metadata": {},
   "outputs": [
    {
     "data": {
      "text/html": [
       "<div>\n",
       "<style scoped>\n",
       "    .dataframe tbody tr th:only-of-type {\n",
       "        vertical-align: middle;\n",
       "    }\n",
       "\n",
       "    .dataframe tbody tr th {\n",
       "        vertical-align: top;\n",
       "    }\n",
       "\n",
       "    .dataframe thead th {\n",
       "        text-align: right;\n",
       "    }\n",
       "</style>\n",
       "<table border=\"1\" class=\"dataframe\">\n",
       "  <thead>\n",
       "    <tr style=\"text-align: right;\">\n",
       "      <th></th>\n",
       "      <th>LNR</th>\n",
       "      <th>ANZ_HAUSHALTE_AKTIV</th>\n",
       "      <th>ANZ_HH_TITEL</th>\n",
       "      <th>ANZ_PERSONEN</th>\n",
       "      <th>ANZ_TITEL</th>\n",
       "      <th>GEBURTSJAHR</th>\n",
       "      <th>KBA13_ANZAHL_PKW</th>\n",
       "      <th>MIN_GEBAEUDEJAHR</th>\n",
       "      <th>AGER_TYP</th>\n",
       "      <th>BALLRAUM</th>\n",
       "      <th>...</th>\n",
       "      <th>SEMIO_SOZ</th>\n",
       "      <th>SEMIO_TRADV</th>\n",
       "      <th>SEMIO_VERT</th>\n",
       "      <th>SHOPPER_TYP</th>\n",
       "      <th>VERS_TYP</th>\n",
       "      <th>W_KEIT_KIND_HH</th>\n",
       "      <th>WOHNDAUER_2008</th>\n",
       "      <th>WOHNLAGE</th>\n",
       "      <th>ANREDE_KZ</th>\n",
       "      <th>ALTERSKATEGORIE_GROB</th>\n",
       "    </tr>\n",
       "  </thead>\n",
       "  <tbody>\n",
       "    <tr>\n",
       "      <th>0</th>\n",
       "      <td>9626.0</td>\n",
       "      <td>1.000000</td>\n",
       "      <td>0.000000</td>\n",
       "      <td>2.0</td>\n",
       "      <td>0.0</td>\n",
       "      <td>0.0</td>\n",
       "      <td>1201.000000</td>\n",
       "      <td>1992.000000</td>\n",
       "      <td>3.0</td>\n",
       "      <td>2.0</td>\n",
       "      <td>...</td>\n",
       "      <td>5.0</td>\n",
       "      <td>0.0</td>\n",
       "      <td>5.0</td>\n",
       "      <td>4.0</td>\n",
       "      <td>1.0</td>\n",
       "      <td>5.0</td>\n",
       "      <td>8.0</td>\n",
       "      <td>6.0</td>\n",
       "      <td>0.0</td>\n",
       "      <td>3.0</td>\n",
       "    </tr>\n",
       "    <tr>\n",
       "      <th>1</th>\n",
       "      <td>9628.0</td>\n",
       "      <td>4.965863</td>\n",
       "      <td>0.067413</td>\n",
       "      <td>3.0</td>\n",
       "      <td>0.0</td>\n",
       "      <td>0.0</td>\n",
       "      <td>667.231216</td>\n",
       "      <td>1993.056659</td>\n",
       "      <td>0.0</td>\n",
       "      <td>5.0</td>\n",
       "      <td>...</td>\n",
       "      <td>2.0</td>\n",
       "      <td>0.0</td>\n",
       "      <td>6.0</td>\n",
       "      <td>4.0</td>\n",
       "      <td>1.0</td>\n",
       "      <td>5.0</td>\n",
       "      <td>8.0</td>\n",
       "      <td>3.0</td>\n",
       "      <td>0.0</td>\n",
       "      <td>3.0</td>\n",
       "    </tr>\n",
       "    <tr>\n",
       "      <th>2</th>\n",
       "      <td>143872.0</td>\n",
       "      <td>1.000000</td>\n",
       "      <td>0.000000</td>\n",
       "      <td>1.0</td>\n",
       "      <td>0.0</td>\n",
       "      <td>0.0</td>\n",
       "      <td>433.000000</td>\n",
       "      <td>1992.000000</td>\n",
       "      <td>0.0</td>\n",
       "      <td>6.0</td>\n",
       "      <td>...</td>\n",
       "      <td>1.0</td>\n",
       "      <td>0.0</td>\n",
       "      <td>2.0</td>\n",
       "      <td>2.0</td>\n",
       "      <td>2.0</td>\n",
       "      <td>5.0</td>\n",
       "      <td>8.0</td>\n",
       "      <td>2.0</td>\n",
       "      <td>1.0</td>\n",
       "      <td>3.0</td>\n",
       "    </tr>\n",
       "    <tr>\n",
       "      <th>3</th>\n",
       "      <td>143873.0</td>\n",
       "      <td>0.000000</td>\n",
       "      <td>0.067413</td>\n",
       "      <td>0.0</td>\n",
       "      <td>0.0</td>\n",
       "      <td>0.0</td>\n",
       "      <td>755.000000</td>\n",
       "      <td>1992.000000</td>\n",
       "      <td>2.0</td>\n",
       "      <td>6.0</td>\n",
       "      <td>...</td>\n",
       "      <td>5.0</td>\n",
       "      <td>3.0</td>\n",
       "      <td>6.0</td>\n",
       "      <td>1.0</td>\n",
       "      <td>1.0</td>\n",
       "      <td>5.0</td>\n",
       "      <td>8.0</td>\n",
       "      <td>6.0</td>\n",
       "      <td>0.0</td>\n",
       "      <td>3.0</td>\n",
       "    </tr>\n",
       "    <tr>\n",
       "      <th>4</th>\n",
       "      <td>143874.0</td>\n",
       "      <td>7.000000</td>\n",
       "      <td>0.000000</td>\n",
       "      <td>4.0</td>\n",
       "      <td>0.0</td>\n",
       "      <td>1960.0</td>\n",
       "      <td>513.000000</td>\n",
       "      <td>1992.000000</td>\n",
       "      <td>0.0</td>\n",
       "      <td>2.0</td>\n",
       "      <td>...</td>\n",
       "      <td>3.0</td>\n",
       "      <td>3.0</td>\n",
       "      <td>4.0</td>\n",
       "      <td>2.0</td>\n",
       "      <td>2.0</td>\n",
       "      <td>1.0</td>\n",
       "      <td>8.0</td>\n",
       "      <td>3.0</td>\n",
       "      <td>0.0</td>\n",
       "      <td>2.0</td>\n",
       "    </tr>\n",
       "  </tbody>\n",
       "</table>\n",
       "<p>5 rows × 250 columns</p>\n",
       "</div>"
      ],
      "text/plain": [
       "        LNR  ANZ_HAUSHALTE_AKTIV  ANZ_HH_TITEL  ANZ_PERSONEN  ANZ_TITEL  \\\n",
       "0    9626.0             1.000000      0.000000           2.0        0.0   \n",
       "1    9628.0             4.965863      0.067413           3.0        0.0   \n",
       "2  143872.0             1.000000      0.000000           1.0        0.0   \n",
       "3  143873.0             0.000000      0.067413           0.0        0.0   \n",
       "4  143874.0             7.000000      0.000000           4.0        0.0   \n",
       "\n",
       "   GEBURTSJAHR  KBA13_ANZAHL_PKW  MIN_GEBAEUDEJAHR AGER_TYP BALLRAUM  \\\n",
       "0          0.0       1201.000000       1992.000000      3.0      2.0   \n",
       "1          0.0        667.231216       1993.056659      0.0      5.0   \n",
       "2          0.0        433.000000       1992.000000      0.0      6.0   \n",
       "3          0.0        755.000000       1992.000000      2.0      6.0   \n",
       "4       1960.0        513.000000       1992.000000      0.0      2.0   \n",
       "\n",
       "          ...          SEMIO_SOZ SEMIO_TRADV SEMIO_VERT SHOPPER_TYP VERS_TYP  \\\n",
       "0         ...                5.0         0.0        5.0         4.0      1.0   \n",
       "1         ...                2.0         0.0        6.0         4.0      1.0   \n",
       "2         ...                1.0         0.0        2.0         2.0      2.0   \n",
       "3         ...                5.0         3.0        6.0         1.0      1.0   \n",
       "4         ...                3.0         3.0        4.0         2.0      2.0   \n",
       "\n",
       "  W_KEIT_KIND_HH WOHNDAUER_2008 WOHNLAGE ANREDE_KZ ALTERSKATEGORIE_GROB  \n",
       "0            5.0            8.0      6.0       0.0                  3.0  \n",
       "1            5.0            8.0      3.0       0.0                  3.0  \n",
       "2            5.0            8.0      2.0       1.0                  3.0  \n",
       "3            5.0            8.0      6.0       0.0                  3.0  \n",
       "4            1.0            8.0      3.0       0.0                  2.0  \n",
       "\n",
       "[5 rows x 250 columns]"
      ]
     },
     "execution_count": 37,
     "metadata": {},
     "output_type": "execute_result"
    }
   ],
   "source": [
    "customers_df.head()"
   ]
  },
  {
   "cell_type": "code",
   "execution_count": 38,
   "metadata": {
    "scrolled": true
   },
   "outputs": [
    {
     "data": {
      "text/plain": [
       "LNR                            float64\n",
       "ANZ_HAUSHALTE_AKTIV            float64\n",
       "ANZ_HH_TITEL                   float64\n",
       "ANZ_PERSONEN                   float64\n",
       "ANZ_TITEL                      float64\n",
       "GEBURTSJAHR                    float64\n",
       "KBA13_ANZAHL_PKW               float64\n",
       "MIN_GEBAEUDEJAHR               float64\n",
       "AGER_TYP                      category\n",
       "BALLRAUM                      category\n",
       "CJT_GESAMTTYP                 category\n",
       "D19_BANKEN_ANZ_12             category\n",
       "D19_BANKEN_ANZ_24             category\n",
       "D19_BANKEN_DATUM              category\n",
       "D19_BANKEN_OFFLINE_DATUM      category\n",
       "D19_BANKEN_ONLINE_DATUM       category\n",
       "D19_BANKEN_ONLINE_QUOTE_12    category\n",
       "D19_GESAMT_ANZ_12             category\n",
       "D19_GESAMT_ANZ_24             category\n",
       "D19_GESAMT_DATUM              category\n",
       "D19_GESAMT_OFFLINE_DATUM      category\n",
       "D19_GESAMT_ONLINE_DATUM       category\n",
       "D19_KONSUMTYP                 category\n",
       "D19_TELKO_DATUM               category\n",
       "D19_TELKO_OFFLINE_DATUM       category\n",
       "D19_VERSAND_ANZ_12            category\n",
       "D19_VERSAND_ANZ_24            category\n",
       "D19_VERSAND_DATUM             category\n",
       "D19_VERSAND_OFFLINE_DATUM     category\n",
       "D19_VERSAND_ONLINE_DATUM      category\n",
       "                                ...   \n",
       "PLZ8_ANTG1                    category\n",
       "PLZ8_ANTG2                    category\n",
       "PLZ8_ANTG3                    category\n",
       "PLZ8_ANTG4                    category\n",
       "PLZ8_BAUMAX                   category\n",
       "PLZ8_GBZ                      category\n",
       "PLZ8_HHZ                      category\n",
       "RELAT_AB                      category\n",
       "RETOURTYP_BK_S                category\n",
       "SEMIO_DOM                     category\n",
       "SEMIO_ERL                     category\n",
       "SEMIO_FAM                     category\n",
       "SEMIO_KAEM                    category\n",
       "SEMIO_KRIT                    category\n",
       "SEMIO_KULT                    category\n",
       "SEMIO_LUST                    category\n",
       "SEMIO_MAT                     category\n",
       "SEMIO_PFLICHT                 category\n",
       "SEMIO_RAT                     category\n",
       "SEMIO_REL                     category\n",
       "SEMIO_SOZ                     category\n",
       "SEMIO_TRADV                   category\n",
       "SEMIO_VERT                    category\n",
       "SHOPPER_TYP                   category\n",
       "VERS_TYP                      category\n",
       "W_KEIT_KIND_HH                category\n",
       "WOHNDAUER_2008                category\n",
       "WOHNLAGE                      category\n",
       "ANREDE_KZ                     category\n",
       "ALTERSKATEGORIE_GROB          category\n",
       "Length: 250, dtype: object"
      ]
     },
     "execution_count": 38,
     "metadata": {},
     "output_type": "execute_result"
    }
   ],
   "source": [
    "customers_df.dtypes"
   ]
  },
  {
   "cell_type": "markdown",
   "metadata": {},
   "source": [
    "**8 numeric columns out of 250, which is 3.2% of the total columns. We will be loosing way too much information if we only use the numeric features to perform clustering. Other approaches could be using k-modes, but we are going to test something else.**"
   ]
  },
  {
   "cell_type": "markdown",
   "metadata": {},
   "source": [
    "## Train a model"
   ]
  },
  {
   "cell_type": "markdown",
   "metadata": {},
   "source": [
    "We are going to train a supervised classification model to see if there are patterns that differentiate customers from the rest of the population."
   ]
  },
  {
   "cell_type": "code",
   "execution_count": 39,
   "metadata": {},
   "outputs": [],
   "source": [
    "customers_df['target'] = 1\n",
    "population_df['target'] = 0"
   ]
  },
  {
   "cell_type": "code",
   "execution_count": 40,
   "metadata": {},
   "outputs": [],
   "source": [
    "dataset = pd.concat([customers_df, population_df])"
   ]
  },
  {
   "cell_type": "code",
   "execution_count": 41,
   "metadata": {},
   "outputs": [
    {
     "data": {
      "text/plain": [
       "(383304, 251)"
      ]
     },
     "execution_count": 41,
     "metadata": {},
     "output_type": "execute_result"
    }
   ],
   "source": [
    "dataset.shape"
   ]
  },
  {
   "cell_type": "code",
   "execution_count": 42,
   "metadata": {},
   "outputs": [],
   "source": [
    "x = dataset.drop(columns=['LNR', 'target']) # Remember to remove LNR when making predictions\n",
    "x = x.astype(float) # We have used ordinal encoding for categorical values, hence we just need to convert the data type\n",
    "y = dataset['target']"
   ]
  },
  {
   "cell_type": "code",
   "execution_count": 43,
   "metadata": {},
   "outputs": [],
   "source": [
    "del customers_df\n",
    "del population_df\n",
    "del dataset"
   ]
  },
  {
   "cell_type": "code",
   "execution_count": 44,
   "metadata": {},
   "outputs": [],
   "source": [
    "clf = xgboost.XGBClassifier()"
   ]
  },
  {
   "cell_type": "code",
   "execution_count": 45,
   "metadata": {},
   "outputs": [],
   "source": [
    "clf = clf.fit(x,y)"
   ]
  },
  {
   "cell_type": "markdown",
   "metadata": {},
   "source": [
    "## Analyze performance"
   ]
  },
  {
   "cell_type": "code",
   "execution_count": 46,
   "metadata": {},
   "outputs": [],
   "source": [
    "from sklearn.metrics import accuracy_score"
   ]
  },
  {
   "cell_type": "code",
   "execution_count": 47,
   "metadata": {},
   "outputs": [],
   "source": [
    "y_pred = clf.predict(x)"
   ]
  },
  {
   "cell_type": "code",
   "execution_count": 48,
   "metadata": {},
   "outputs": [
    {
     "data": {
      "text/plain": [
       "0.8376119216079143"
      ]
     },
     "execution_count": 48,
     "metadata": {},
     "output_type": "execute_result"
    }
   ],
   "source": [
    "accuracy_score(y, y_pred)"
   ]
  },
  {
   "cell_type": "markdown",
   "metadata": {},
   "source": [
    "This is very good as the model is telling us that it is capable to separate people that it is already a customer from the total population in general. It means there are clear patterns that the customers present and we can use to target potential new customers.\n",
    "\n",
    "Not having a perfect score is good in 2 ways: first because the model is not overfitting the data and second, but the most important one, is that there are people from population dataset that are being missclasified as customers because they shows similar patterns, hence are very likely to become the following customers. We should focus inmediately in this subset of people to begin with marketing campaigns."
   ]
  },
  {
   "cell_type": "markdown",
   "metadata": {},
   "source": [
    "## Interpretability"
   ]
  },
  {
   "cell_type": "code",
   "execution_count": 51,
   "metadata": {},
   "outputs": [
    {
     "data": {
      "text/plain": [
       "<matplotlib.axes._subplots.AxesSubplot at 0x7f15bbd9dc88>"
      ]
     },
     "execution_count": 51,
     "metadata": {},
     "output_type": "execute_result"
    },
    {
     "data": {
      "image/png": "[encoded data removed]",
      "text/plain": [
       "<matplotlib.figure.Figure at 0x7f15bb3b48d0>"
      ]
     },
     "metadata": {
      "needs_background": "light"
     },
     "output_type": "display_data"
    }
   ],
   "source": [
    "feat_importances = pd.Series(clf.feature_importances_, index=x.columns)\n",
    "feat_importances.nlargest(10).plot(kind='barh')"
   ]
  },
  {
   "cell_type": "markdown",
   "metadata": {},
   "source": [
    "These are the key indicators that allows to separate customers from general population, hence it indicate us the most important traits our customers have, which will guide us to find new customers."
   ]
  },
  {
   "cell_type": "markdown",
   "metadata": {},
   "source": [
    "For instance, we can analyze the distribution of categories for the feature with the highest predictive power which is 'FINANZ_MINIMALIST'"
   ]
  },
  {
   "cell_type": "code",
   "execution_count": 53,
   "metadata": {},
   "outputs": [],
   "source": [
    "import seaborn as sns"
   ]
  },
  {
   "cell_type": "code",
   "execution_count": 61,
   "metadata": {},
   "outputs": [
    {
     "data": {
      "image/png": "[encoded data removed]",
      "text/plain": [
       "<matplotlib.figure.Figure at 0x7f15bbf45240>"
      ]
     },
     "metadata": {
      "needs_background": "light"
     },
     "output_type": "display_data"
    }
   ],
   "source": [
    "_ = sns.countplot(x['FINANZ_MINIMALIST'], hue=y.replace({0:'population', 1:'customers'}))"
   ]
  },
  {
   "cell_type": "markdown",
   "metadata": {},
   "source": [
    "This is very powerful to segment the database, and it is specially useful for a case like this where we have a huge number of categorical features."
   ]
  }
 ],
 "metadata": {
  "kernelspec": {
   "display_name": "Python 3",
   "language": "python",
   "name": "python3"
  },
  "language_info": {
   "codemirror_mode": {
    "name": "ipython",
    "version": 3
   },
   "file_extension": ".py",
   "mimetype": "text/x-python",
   "name": "python",
   "nbconvert_exporter": "python",
   "pygments_lexer": "ipython3",
   "version": "3.6.3"
  }
 },
 "nbformat": 4,
 "nbformat_minor": 2
}
